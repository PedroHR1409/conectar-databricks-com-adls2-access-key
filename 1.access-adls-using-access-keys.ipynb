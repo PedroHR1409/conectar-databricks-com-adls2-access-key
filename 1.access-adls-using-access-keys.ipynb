{
 "cells": [
  {
   "cell_type": "markdown",
   "metadata": {
    "application/vnd.databricks.v1+cell": {
     "cellMetadata": {
      "byteLimit": 2048000,
      "rowLimit": 10000
     },
     "inputWidgets": {},
     "nuid": "c01cb021-19e7-4a92-ab2d-6173746522f8",
     "showTitle": false,
     "title": ""
    }
   },
   "source": [
    "### Acessar o Azure Data Lake utilizando uma chave de acesso\n",
    "\n",
    "1. Definir as configurações do Spark fs.azure.account.key\n",
    "2. Listar os arquivos presentes na camada \"bronze\"\n",
    "3. Ler os dados do arquivo \"circuits.csv\""
   ]
  },
  {
   "cell_type": "code",
   "execution_count": null,
   "metadata": {
    "application/vnd.databricks.v1+cell": {
     "cellMetadata": {
      "byteLimit": 2048000,
      "rowLimit": 10000
     },
     "inputWidgets": {},
     "nuid": "9c3b252c-9c62-4d3b-bcdc-3fe8ef5b0625",
     "showTitle": false,
     "title": ""
    }
   },
   "outputs": [],
   "source": [
    "# 1. Definir as configurações do Spark fs.azure.account.key\n",
    "spark.conf.set(\n",
    "    \"fs.azure.account.key.<storage-account>.dfs.core.windows.net\",\n",
    "    \"<key-access>\"\n",
    ")"
   ]
  },
  {
   "cell_type": "code",
   "execution_count": null,
   "metadata": {
    "application/vnd.databricks.v1+cell": {
     "cellMetadata": {
      "byteLimit": 2048000,
      "rowLimit": 10000
     },
     "inputWidgets": {},
     "nuid": "9f6a1016-ca7f-4858-82c7-25eb991b8876",
     "showTitle": false,
     "title": ""
    }
   },
   "outputs": [],
   "source": [
    "# 2. Listar os arquivos presentes na camada bronze\n",
    "dbutils.fs.ls('abfss://bronze@<storage-account>.dfs.core.windows.net/')"
   ]
  },
  {
   "cell_type": "code",
   "execution_count": null,
   "metadata": {
    "application/vnd.databricks.v1+cell": {
     "cellMetadata": {
      "byteLimit": 2048000,
      "rowLimit": 10000
     },
     "inputWidgets": {},
     "nuid": "605ad82d-d23d-4117-ac06-003940b88879",
     "showTitle": false,
     "title": ""
    }
   },
   "outputs": [
    {
     "name": "stdout",
     "output_type": "stream",
     "text": [
      "+---------+--------------+--------------------+------------+---------+--------+--------+---+--------------------+\n",
      "|circuitId|    circuitRef|                name|    location|  country|     lat|     lng|alt|                 url|\n",
      "+---------+--------------+--------------------+------------+---------+--------+--------+---+--------------------+\n",
      "|        1|   albert_park|Albert Park Grand...|   Melbourne|Australia|-37.8497| 144.968| 10|http://en.wikiped...|\n",
      "|        2|        sepang|Sepang Internatio...|Kuala Lumpur| Malaysia| 2.76083| 101.738| 18|http://en.wikiped...|\n",
      "|        3|       bahrain|Bahrain Internati...|      Sakhir|  Bahrain| 26.0325| 50.5106|  7|http://en.wikiped...|\n",
      "|        4|     catalunya|Circuit de Barcel...|    Montmeló|    Spain|   41.57| 2.26111|109|http://en.wikiped...|\n",
      "|        5|      istanbul|       Istanbul Park|    Istanbul|   Turkey| 40.9517|  29.405|130|http://en.wikiped...|\n",
      "|        6|        monaco|   Circuit de Monaco| Monte-Carlo|   Monaco| 43.7347| 7.42056|  7|http://en.wikiped...|\n",
      "|        7|    villeneuve|Circuit Gilles Vi...|    Montreal|   Canada|    45.5|-73.5228| 13|http://en.wikiped...|\n",
      "|        8|   magny_cours|Circuit de Nevers...| Magny Cours|   France| 46.8642| 3.16361|228|http://en.wikiped...|\n",
      "|        9|   silverstone| Silverstone Circuit| Silverstone|       UK| 52.0786|-1.01694|153|http://en.wikiped...|\n",
      "|       10|hockenheimring|      Hockenheimring|  Hockenheim|  Germany| 49.3278| 8.56583|103|http://en.wikiped...|\n",
      "+---------+--------------+--------------------+------------+---------+--------+--------+---+--------------------+\n",
      "only showing top 10 rows\n",
      "\n"
     ]
    }
   ],
   "source": [
    "# 3. Ler os dados do arquivo \"circuits.csv\"\n",
    "\n",
    "# 3.1 Retornar apenas o nome das colunas\n",
    "spark.read.csv('abfss://bronze@<storage-account>.dfs.core.windows.net/circuits.csv', header = True)\n",
    "\n",
    "# 3.2 Retornar em formato colunar\n",
    "spark.read.csv('abfss://bronze@<storage-account>.dfs.core.windows.net', header = True).show(n = 10)"
   ]
  },
  {
   "cell_type": "code",
   "execution_count": null,
   "metadata": {
    "application/vnd.databricks.v1+cell": {
     "cellMetadata": {
      "byteLimit": 2048000,
      "rowLimit": 10000
     },
     "inputWidgets": {},
     "nuid": "e46232dd-6959-45bf-8987-3099366a9f41",
     "showTitle": false,
     "title": ""
    }
   },
   "outputs": [
    {
     "name": "stdout",
     "output_type": "stream",
     "text": [
      "+---------+--------------+--------------------+------------+---------+--------+---------+---+--------------------+\n",
      "|circuitId|    circuitRef|                name|    location|  country|     lat|      lng|alt|                 url|\n",
      "+---------+--------------+--------------------+------------+---------+--------+---------+---+--------------------+\n",
      "|        1|   albert_park|Albert Park Grand...|   Melbourne|Australia|-37.8497|  144.968| 10|http://en.wikiped...|\n",
      "|        2|        sepang|Sepang Internatio...|Kuala Lumpur| Malaysia| 2.76083|  101.738| 18|http://en.wikiped...|\n",
      "|        3|       bahrain|Bahrain Internati...|      Sakhir|  Bahrain| 26.0325|  50.5106|  7|http://en.wikiped...|\n",
      "|        4|     catalunya|Circuit de Barcel...|    Montmeló|    Spain|   41.57|  2.26111|109|http://en.wikiped...|\n",
      "|        5|      istanbul|       Istanbul Park|    Istanbul|   Turkey| 40.9517|   29.405|130|http://en.wikiped...|\n",
      "|        6|        monaco|   Circuit de Monaco| Monte-Carlo|   Monaco| 43.7347|  7.42056|  7|http://en.wikiped...|\n",
      "|        7|    villeneuve|Circuit Gilles Vi...|    Montreal|   Canada|    45.5| -73.5228| 13|http://en.wikiped...|\n",
      "|        8|   magny_cours|Circuit de Nevers...| Magny Cours|   France| 46.8642|  3.16361|228|http://en.wikiped...|\n",
      "|        9|   silverstone| Silverstone Circuit| Silverstone|       UK| 52.0786| -1.01694|153|http://en.wikiped...|\n",
      "|       10|hockenheimring|      Hockenheimring|  Hockenheim|  Germany| 49.3278|  8.56583|103|http://en.wikiped...|\n",
      "|       11|   hungaroring|         Hungaroring|    Budapest|  Hungary| 47.5789|  19.2486|264|http://en.wikiped...|\n",
      "|       12|      valencia|Valencia Street C...|    Valencia|    Spain| 39.4589|-0.331667|  4|http://en.wikiped...|\n",
      "|       13|           spa|Circuit de Spa-Fr...|         Spa|  Belgium| 50.4372|  5.97139|401|http://en.wikiped...|\n",
      "|       14|         monza|Autodromo Naziona...|       Monza|    Italy| 45.6156|  9.28111|162|http://en.wikiped...|\n",
      "|       15|    marina_bay|Marina Bay Street...|  Marina Bay|Singapore|  1.2914|  103.864| 18|http://en.wikiped...|\n",
      "|       16|          fuji|       Fuji Speedway|       Oyama|    Japan| 35.3717|  138.927|583|http://en.wikiped...|\n",
      "|       17|      shanghai|Shanghai Internat...|    Shanghai|    China| 31.3389|   121.22|  5|http://en.wikiped...|\n",
      "|       18|    interlagos|Autódromo José Ca...|   São Paulo|   Brazil|-23.7036| -46.6997|785|http://en.wikiped...|\n",
      "|       19|  indianapolis|Indianapolis Moto...|Indianapolis|      USA|  39.795| -86.2347|223|http://en.wikiped...|\n",
      "|       20|   nurburgring|         Nürburgring|     Nürburg|  Germany| 50.3356|   6.9475|578|http://en.wikiped...|\n",
      "+---------+--------------+--------------------+------------+---------+--------+---------+---+--------------------+\n",
      "only showing top 20 rows\n",
      "\n"
     ]
    }
   ],
   "source": [
    "# Lendo o arquivo, porém definindo o schema\n",
    "from pyspark.sql.types import StructType, IntegerType, StringType, DoubleType\n",
    "\n",
    "schema = StructType() \\\n",
    "    .add('circuitId', IntegerType(), True) \\\n",
    "    .add('circuitRef', StringType(), True) \\\n",
    "    .add('name', StringType(), True) \\\n",
    "    .add('location', StringType(), True) \\\n",
    "    .add('country', StringType(), True) \\\n",
    "    .add('lat', DoubleType(), True) \\\n",
    "    .add('lng', DoubleType(), True) \\\n",
    "    .add('alt', IntegerType(), True) \\\n",
    "    .add('url', StringType(), True)\n",
    "\n",
    "df = spark.read.format(\"csv\") \\\n",
    "    .schema(schema) \\\n",
    "    .option(\"header\", \"true\") \\\n",
    "    .load('abfss://bronze@<storage-account>.dfs.core.windows.net')\n",
    "\n",
    "df.show()"
   ]
  }
 ],
 "metadata": {
  "application/vnd.databricks.v1+notebook": {
   "dashboards": [],
   "language": "python",
   "notebookMetadata": {
    "mostRecentlyExecutedCommandWithImplicitDF": {
     "commandId": -1,
     "dataframes": [
      "_sqldf"
     ]
    },
    "pythonIndentUnit": 4
   },
   "notebookName": "1.access-adls-using-access-keys",
   "widgets": {}
  },
  "language_info": {
   "name": "python"
  }
 },
 "nbformat": 4,
 "nbformat_minor": 0
}
